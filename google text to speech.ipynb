{
 "cells": [
  {
   "cell_type": "markdown",
   "metadata": {},
   "source": [
    "# Google Text to Speech\n"
   ]
  },
  {
   "cell_type": "code",
   "execution_count": 1,
   "metadata": {},
   "outputs": [
    {
     "name": "stdout",
     "output_type": "stream",
     "text": [
      "Requirement already satisfied: gtts in c:\\users\\sahoo\\anaconda3\\lib\\site-packages (2.2.1)\n",
      "Requirement already satisfied: click in c:\\users\\sahoo\\anaconda3\\lib\\site-packages (from gtts) (7.0)\n",
      "Requirement already satisfied: requests in c:\\users\\sahoo\\anaconda3\\lib\\site-packages (from gtts) (2.22.0)\n",
      "Requirement already satisfied: six in c:\\users\\sahoo\\appdata\\roaming\\python\\python37\\site-packages (from gtts) (1.15.0)\n",
      "Requirement already satisfied: idna<2.9,>=2.5 in c:\\users\\sahoo\\anaconda3\\lib\\site-packages (from requests->gtts) (2.8)\n",
      "Requirement already satisfied: chardet<3.1.0,>=3.0.2 in c:\\users\\sahoo\\anaconda3\\lib\\site-packages (from requests->gtts) (3.0.4)\n",
      "Requirement already satisfied: certifi>=2017.4.17 in c:\\users\\sahoo\\anaconda3\\lib\\site-packages (from requests->gtts) (2019.6.16)\n",
      "Requirement already satisfied: urllib3!=1.25.0,!=1.25.1,<1.26,>=1.21.1 in c:\\users\\sahoo\\anaconda3\\lib\\site-packages (from requests->gtts) (1.24.2)\n"
     ]
    }
   ],
   "source": [
    "! pip install gtts"
   ]
  },
  {
   "cell_type": "code",
   "execution_count": 2,
   "metadata": {},
   "outputs": [
    {
     "name": "stdout",
     "output_type": "stream",
     "text": [
      "Requirement already satisfied: gTTS in c:\\users\\sahoo\\anaconda3\\lib\\site-packages (2.2.1)\n",
      "Requirement already satisfied: requests in c:\\users\\sahoo\\anaconda3\\lib\\site-packages (from gTTS) (2.22.0)\n",
      "Requirement already satisfied: click in c:\\users\\sahoo\\anaconda3\\lib\\site-packages (from gTTS) (7.0)\n",
      "Requirement already satisfied: six in c:\\users\\sahoo\\appdata\\roaming\\python\\python37\\site-packages (from gTTS) (1.15.0)\n",
      "Requirement already satisfied: urllib3!=1.25.0,!=1.25.1,<1.26,>=1.21.1 in c:\\users\\sahoo\\anaconda3\\lib\\site-packages (from requests->gTTS) (1.24.2)\n",
      "Requirement already satisfied: chardet<3.1.0,>=3.0.2 in c:\\users\\sahoo\\anaconda3\\lib\\site-packages (from requests->gTTS) (3.0.4)\n",
      "Requirement already satisfied: idna<2.9,>=2.5 in c:\\users\\sahoo\\anaconda3\\lib\\site-packages (from requests->gTTS) (2.8)\n",
      "Requirement already satisfied: certifi>=2017.4.17 in c:\\users\\sahoo\\anaconda3\\lib\\site-packages (from requests->gTTS) (2019.6.16)\n"
     ]
    }
   ],
   "source": [
    "! pip install gTTS"
   ]
  },
  {
   "cell_type": "code",
   "execution_count": 3,
   "metadata": {},
   "outputs": [],
   "source": [
    "#import the module\n",
    "from gtts import gTTS"
   ]
  },
  {
   "cell_type": "code",
   "execution_count": 4,
   "metadata": {},
   "outputs": [],
   "source": [
    "# Text Data\n",
    "text=\"Piyush, You have a certain amount of philosophy in your character but it lies dormant a good deal of the time. You are large-hearted and sincere, though a trifle blunt. You are somewhat proud and people who ponder to your vanity become your best friends.You have high ideals which cannot be realised. When they fail, you allow yourself to be considerably dejected. There is a streak of restlessness in you, which causes you to cast aside an ideal before it has had sufficient time to mature. Consequently, you do not attain the success in life, nor the happiness and comfort, that your qualities merit.You know how to express your opinions in public and you have a neat gift for being humorous. It follows that you are credited by your friends as being jolly good company. Certainly you are entertaining. Your friends by the way, have considerable influence on you and it is highly necessary that you should chose them wisely and deliberately.Your greatest failing is that you are versatile and that your energies are directed into too many channels. Concentrate on fewer branches of work and pleasure, and you will greatly benefit by the change.\""
   ]
  },
  {
   "cell_type": "code",
   "execution_count": 5,
   "metadata": {},
   "outputs": [],
   "source": [
    "language=\"en\""
   ]
  },
  {
   "cell_type": "code",
   "execution_count": 6,
   "metadata": {},
   "outputs": [],
   "source": [
    "#passing the text Data\n",
    "myobj=gTTS(text=text, lang=language, slow=False)"
   ]
  },
  {
   "cell_type": "code",
   "execution_count": 7,
   "metadata": {},
   "outputs": [],
   "source": [
    "myobj.save(\"demo.mp3\")"
   ]
  },
  {
   "cell_type": "code",
   "execution_count": 8,
   "metadata": {},
   "outputs": [],
   "source": [
    "import os"
   ]
  },
  {
   "cell_type": "code",
   "execution_count": 9,
   "metadata": {},
   "outputs": [
    {
     "data": {
      "text/plain": [
       "1"
      ]
     },
     "execution_count": 9,
     "metadata": {},
     "output_type": "execute_result"
    }
   ],
   "source": [
    "os.system(\"Mpg321 demo.mp3\")"
   ]
  },
  {
   "cell_type": "code",
   "execution_count": null,
   "metadata": {},
   "outputs": [],
   "source": []
  }
 ],
 "metadata": {
  "kernelspec": {
   "display_name": "Python 3",
   "language": "python",
   "name": "python3"
  },
  "language_info": {
   "codemirror_mode": {
    "name": "ipython",
    "version": 3
   },
   "file_extension": ".py",
   "mimetype": "text/x-python",
   "name": "python",
   "nbconvert_exporter": "python",
   "pygments_lexer": "ipython3",
   "version": "3.7.3"
  }
 },
 "nbformat": 4,
 "nbformat_minor": 2
}
